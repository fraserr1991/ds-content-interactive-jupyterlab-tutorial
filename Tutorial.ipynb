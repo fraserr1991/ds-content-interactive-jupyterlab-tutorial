{
  "cells": [
    {
      "cell_type": "markdown",
      "metadata": {
        "id": "view-in-github",
        "colab_type": "text"
      },
      "source": [
        "<a href=\"https://colab.research.google.com/github/fraserr1991/ds-content-interactive-jupyterlab-tutorial/blob/master/Tutorial.ipynb\" target=\"_parent\"><img src=\"https://colab.research.google.com/assets/colab-badge.svg\" alt=\"Open In Colab\"/></a>"
      ]
    },
    {
      "cell_type": "code",
      "source": [],
      "metadata": {
        "id": "Um1haWOBYjnf"
      },
      "execution_count": null,
      "outputs": []
    },
    {
      "cell_type": "markdown",
      "metadata": {
        "id": "IWwGWJjLYgEl"
      },
      "source": [
        "![rmotr](https://user-images.githubusercontent.com/7065401/52071918-bda15380-2562-11e9-828c-7f95297e4a82.png)\n",
        "<hr style=\"margin-bottom: 40px;\">\n",
        "\n",
        "<img src=\"https://user-images.githubusercontent.com/7065401/55025843-7d99a280-4fe0-11e9-938a-4879d95c4130.png\"\n",
        "    style=\"width:150px; float: right; margin: 0 40px 40px 40px;\"></img>\n",
        "\n",
        "# Interactive Notebooks Tutorial\n",
        "\n",
        "Welcome to Notebooks.ai ❤️, a fully online 🤖, cloud-based ☁️ Data Science environment. All your work, analysis and datasets organized in the same place 🙌.\n",
        "\n",
        "![purple-divider](https://user-images.githubusercontent.com/7065401/52071927-c1cd7100-2562-11e9-908a-dde91ba14e59.png)"
      ]
    },
    {
      "cell_type": "markdown",
      "metadata": {
        "id": "ufe4L2orYgEo"
      },
      "source": [
        "### Objective of this tutorial:\n",
        "\n",
        "> **Help you get started with Notebooks.ai for Data Science and Python programming.**\n",
        "\n",
        "_Need help? Create an [issue](https://github.com/notebooks-ai/notebooks-help)._\n",
        "\n",
        "![green-divider](https://user-images.githubusercontent.com/7065401/52071924-c003ad80-2562-11e9-8297-1c6595f8a7ff.png)\n",
        "\n",
        "## Jupyter Notebooks\n",
        "\n",
        "This document that you're currently reading is a \"Jupyter Notebook\", and you've probably heard about it before. It's like a text document, but you can run code on it! It can also display inline graphs, pull data from Databases or show excel spreadsheets live! Isn't it amazing? 😄\n",
        "\n",
        "**Mildly interesting fact of the day:**\n",
        "\n",
        "> _Jupyter is a nod to 3 languages: Julia, Python, and R._ Source [@jakevdp](https://twitter.com/jakevdp/status/1033071052652302336).\n",
        "\n",
        "This is a really quick tutorial on how to get started with Jupyter notebooks (and lab). It shouldn't take more than 10 minutes and you'll be writing Python code right away.\n",
        "\n",
        "### Part 1: everything is a _cell_\n",
        "\n",
        "Jupyter Notebooks are organized as a set of _\"cells\"_. Each cell can contain different types of content: like Python code (or R, Julia, etc), images or even human readable text (markdown), like the one you're currently reading.\n",
        "\n",
        "I've left a couple of empty cells below for you to see them:"
      ]
    },
    {
      "cell_type": "code",
      "execution_count": null,
      "metadata": {
        "id": "jKNgy6AvYgEp"
      },
      "outputs": [],
      "source": []
    },
    {
      "cell_type": "code",
      "execution_count": null,
      "metadata": {
        "id": "51PIfsIyYgEp"
      },
      "outputs": [],
      "source": []
    },
    {
      "cell_type": "code",
      "execution_count": null,
      "metadata": {
        "id": "CxgzzTYtYgEp"
      },
      "outputs": [],
      "source": []
    },
    {
      "cell_type": "markdown",
      "metadata": {
        "id": "bSPFoPhlYgEp"
      },
      "source": [
        "This is another cell containing Markdown (human readable) code. And below, another empty cell:"
      ]
    },
    {
      "cell_type": "code",
      "source": [],
      "metadata": {
        "id": "yFl5XJZgY2yQ"
      },
      "execution_count": null,
      "outputs": []
    },
    {
      "cell_type": "code",
      "execution_count": null,
      "metadata": {
        "id": "B467oyURYgEq"
      },
      "outputs": [],
      "source": []
    },
    {
      "cell_type": "markdown",
      "metadata": {
        "id": "INJSQuruYgEq"
      },
      "source": [
        "You can edit these cells just by double clicking on them. Try editing the following cell:"
      ]
    },
    {
      "cell_type": "markdown",
      "metadata": {
        "id": "ci6GpGB5YgEq"
      },
      "source": [
        "** My edit **"
      ]
    },
    {
      "cell_type": "markdown",
      "metadata": {
        "id": "CpV0HNroYgEr"
      },
      "source": [
        "When you double click the cell, it should open an \"edit mode\", and you should see something similar to:\n",
        "\n",
        "![image](https://github.com/fraserr1991/ds-content-interactive-jupyterlab-tutorial/blob/master/images/_1.png?raw=1)"
      ]
    },
    {
      "cell_type": "markdown",
      "metadata": {
        "id": "Pi78ZzbeYgEr"
      },
      "source": [
        "If you're seeing those asterisks, it's because you've correctly entered \"Edit Mode\". Once you've made the changes, you have to \"execute\", or \"run\" the cell to reflect the changes. To do that just click on the little _play_ button on the top menu bar:\n",
        "\n",
        "![image](https://github.com/fraserr1991/ds-content-interactive-jupyterlab-tutorial/blob/master/images/_2.png?raw=1)"
      ]
    },
    {
      "cell_type": "markdown",
      "metadata": {
        "id": "FezeyDGOYgEr"
      },
      "source": [
        "Jupyter notebooks are optimized for an efficient workflow. There are many keyboard shortcuts that will let you interact with your documents, run code and make other changes; mastering these shortcuts will speed up your work. For example, there are two shortcuts to execute a cell:\n",
        "\n",
        "1. `shift + return`: Run cell and advance to the next one.\n",
        "2. `ctrl  + return`: Run the cell but don't change focus.\n",
        "\n",
        "\n",
        "Try them with the following cell:"
      ]
    },
    {
      "cell_type": "code",
      "execution_count": 12,
      "metadata": {
        "id": "7Hf4Z88WYgEr",
        "outputId": "49e21e1f-3325-44fa-a755-ea9f2c1c1bc1",
        "colab": {
          "base_uri": "https://localhost:8080/"
        }
      },
      "outputs": [
        {
          "output_type": "execute_result",
          "data": {
            "text/plain": [
              "4"
            ]
          },
          "metadata": {},
          "execution_count": 12
        }
      ],
      "source": [
        "2 + 2"
      ]
    },
    {
      "cell_type": "markdown",
      "metadata": {
        "id": "puhz0pdlYgEs"
      },
      "source": [
        "You can try executing these cells as many times as you want, it won't break anything"
      ]
    },
    {
      "cell_type": "markdown",
      "metadata": {
        "id": "TnzNJMFsYgEs"
      },
      "source": [
        "#### `ctrl + Return` effect:\n",
        "\n",
        "As you can see in the following animation, the code is correctly executed (it returns 4) and the focus (the blue line at the left side of the cell) stays in the same cell.\n",
        "\n",
        "![ctrl+enter effect](https://github.com/fraserr1991/ds-content-interactive-jupyterlab-tutorial/blob/master/images/_3.gif?raw=1)\n",
        "\n",
        "Now compare it to the next shortcut, `shift + return`:\n",
        "\n",
        "#### `shift + Return` effect:\n",
        "\n",
        "![shift+enter effect](https://github.com/fraserr1991/ds-content-interactive-jupyterlab-tutorial/blob/master/images/_4.gif?raw=1)\n",
        "\n",
        "As you can see, every time I execute code the focus changes to the cell below."
      ]
    },
    {
      "cell_type": "markdown",
      "metadata": {
        "id": "6NNhzVXMYgEs"
      },
      "source": [
        "![green-divider](https://user-images.githubusercontent.com/7065401/52071924-c003ad80-2562-11e9-8297-1c6595f8a7ff.png)"
      ]
    },
    {
      "cell_type": "markdown",
      "metadata": {
        "id": "IvWP7x5UYgEs"
      },
      "source": [
        "## Part 2: Working with code\n",
        "\n",
        "Jupyter notebooks have amazing features to include text and images and create beautiful, human readable documents as you've just seen. But their main benefit is working with code. Now we're going to import a few libraries and start experimenting with Python code. We've already done the simple `2 + 2` before, so let's do something a little bit more interesting. First, we need to import `numpy` and `matplotlib`:"
      ]
    },
    {
      "cell_type": "code",
      "execution_count": 13,
      "metadata": {
        "id": "lBgXfAkcYgEs"
      },
      "outputs": [],
      "source": [
        "import numpy as np\n",
        "import matplotlib.pyplot as plt\n",
        "%matplotlib inline"
      ]
    },
    {
      "cell_type": "markdown",
      "metadata": {
        "id": "YZRVfQRHYgEs"
      },
      "source": [
        "Notebooks.ai include all the most popular Data Science and Deep Learning libraries already installed. And even if there's one missing, you can always install it in your own environment (more on that later). We've just imported these two libraries:\n",
        "* `numpy` the most popular Python library for array manipulation and numeric computing\n",
        "* `matplotlib` the most popular visualization library in the Python ecosystem.\n",
        "\n",
        "Let's now execute a few lines of code and generate some plots:"
      ]
    },
    {
      "cell_type": "code",
      "execution_count": 32,
      "metadata": {
        "id": "4hspbIKVYgEs"
      },
      "outputs": [],
      "source": [
        "x = np.linspace(0, 50, 500)\n",
        "y = np.cumsum(np.random.randn(500, 6), 0)"
      ]
    },
    {
      "cell_type": "code",
      "execution_count": 33,
      "metadata": {
        "id": "jqWtFftjYgEs",
        "outputId": "64273738-894a-4270-a77c-69a8d6ac86c6",
        "colab": {
          "base_uri": "https://localhost:8080/",
          "height": 309
        }
      },
      "outputs": [
        {
          "output_type": "execute_result",
          "data": {
            "text/plain": [
              "<matplotlib.legend.Legend at 0x7fc8be077550>"
            ]
          },
          "metadata": {},
          "execution_count": 33
        },
        {
          "output_type": "display_data",
          "data": {
            "text/plain": [
              "<Figure size 600x300 with 1 Axes>"
            ],
            "image/png": "[encoded data removed]"
          },
          "metadata": {}
        }
      ],
      "source": [
        "plt.figure(figsize=(6, 3))\n",
        "plt.plot(x, y)\n",
        "plt.legend('ABCDEF', ncol=2, loc='upper left')"
      ]
    },
    {
      "cell_type": "markdown",
      "metadata": {
        "id": "3MjmI65zYgEt"
      },
      "source": [
        "But what is that 😱? Just random generated datapoints, but you can clearly see how simple is to do numeric processing and plotting with Notebooks.ai."
      ]
    },
    {
      "cell_type": "markdown",
      "metadata": {
        "id": "nfcd9Bf2YgEt"
      },
      "source": [
        "![green-divider](https://user-images.githubusercontent.com/7065401/52071924-c003ad80-2562-11e9-8297-1c6595f8a7ff.png)\n",
        "\n",
        "## Part 3: Interacting with data\n",
        "\n",
        "Notebooks.ai and Jupyter Lab make it really simple to intereact with files in your local storage. These files are securely stored in the cloud and you can access them from anywhere in the world.\n",
        "\n",
        "To show you the full potential of Notebooks.ai, we're going to pull cryptocurrencies prices from a public API and download them as Excel files, pretty fancy 😎. I need to import two libraries first: `requests` (to pull data from the web) and `pandas` to process it."
      ]
    },
    {
      "cell_type": "code",
      "execution_count": 43,
      "metadata": {
        "id": "mQOCMRl3YgEt"
      },
      "outputs": [],
      "source": [
        "import requests\n",
        "import pandas as pd"
      ]
    },
    {
      "cell_type": "markdown",
      "metadata": {
        "id": "wG6DQu5IYgEt"
      },
      "source": [
        "I have a predefined function that simplifies the process of importing data from [Cryptowatch](https://cryptowat.ch) (for reference, check [their docs](https://cryptowat.ch/docs/api#ohlc))."
      ]
    },
    {
      "cell_type": "code",
      "execution_count": 44,
      "metadata": {
        "id": "H8y1XCcKYgEt"
      },
      "outputs": [],
      "source": [
        "def get_historic_price(symbol, exchange='bitfinex', after='2018-09-01'):\n",
        "    url = 'https://api.cryptowat.ch/markets/{exchange}/{symbol}usd/ohlc'.format(\n",
        "        symbol=symbol, exchange=exchange)\n",
        "    resp = requests.get(url, params={\n",
        "        'periods': '3600',\n",
        "        'after': str(int(pd.Timestamp(after).timestamp()))\n",
        "    })\n",
        "    resp.raise_for_status()\n",
        "    data = resp.json()\n",
        "    df = pd.DataFrame(data['result']['3600'], columns=[\n",
        "        'CloseTime', 'OpenPrice', 'HighPrice', 'LowPrice', 'ClosePrice', 'Volume', 'NA'\n",
        "    ])\n",
        "    df['CloseTime'] = pd.to_datetime(df['CloseTime'], unit='s')\n",
        "    df.set_index('CloseTime', inplace=True)\n",
        "    return df"
      ]
    },
    {
      "cell_type": "markdown",
      "metadata": {
        "id": "m2MVAd0FYgEt"
      },
      "source": [
        "I will now pull data from Bitcoin and Ether, two of the most popular cryptocurrencies, for the last 7 days:"
      ]
    },
    {
      "cell_type": "code",
      "execution_count": 45,
      "metadata": {
        "id": "qjdA_zJJYgEt",
        "outputId": "cde3b8ba-c42a-4ceb-94dc-2af108733fa0",
        "colab": {
          "base_uri": "https://localhost:8080/"
        }
      },
      "outputs": [
        {
          "output_type": "execute_result",
          "data": {
            "text/plain": [
              "Timestamp('2023-09-26 12:33:54.233460')"
            ]
          },
          "metadata": {},
          "execution_count": 45
        }
      ],
      "source": [
        "last_week = (pd.Timestamp.now() - pd.offsets.Day(7))\n",
        "last_week"
      ]
    },
    {
      "cell_type": "code",
      "execution_count": 46,
      "metadata": {
        "id": "qWtO2kQIYgEt",
        "outputId": "dc30b66b-b6de-49ec-9855-f449267305e6",
        "colab": {
          "base_uri": "https://localhost:8080/",
          "height": 346
        }
      },
      "outputs": [
        {
          "output_type": "error",
          "ename": "HTTPError",
          "evalue": "ignored",
          "traceback": [
            "\u001b[0;31m---------------------------------------------------------------------------\u001b[0m",
            "\u001b[0;31mHTTPError\u001b[0m                                 Traceback (most recent call last)",
            "\u001b[0;32m<ipython-input-46-0aedc854ccc5>\u001b[0m in \u001b[0;36m<cell line: 1>\u001b[0;34m()\u001b[0m\n\u001b[0;32m----> 1\u001b[0;31m \u001b[0mbtc\u001b[0m \u001b[0;34m=\u001b[0m \u001b[0mget_historic_price\u001b[0m\u001b[0;34m(\u001b[0m\u001b[0;34m'btc'\u001b[0m\u001b[0;34m,\u001b[0m \u001b[0;34m'bitstamp'\u001b[0m\u001b[0;34m,\u001b[0m \u001b[0mafter\u001b[0m\u001b[0;34m=\u001b[0m\u001b[0mlast_week\u001b[0m\u001b[0;34m)\u001b[0m\u001b[0;34m\u001b[0m\u001b[0;34m\u001b[0m\u001b[0m\n\u001b[0m",
            "\u001b[0;32m<ipython-input-44-2b17e8dbf56b>\u001b[0m in \u001b[0;36mget_historic_price\u001b[0;34m(symbol, exchange, after)\u001b[0m\n\u001b[1;32m      6\u001b[0m         \u001b[0;34m'after'\u001b[0m\u001b[0;34m:\u001b[0m \u001b[0mstr\u001b[0m\u001b[0;34m(\u001b[0m\u001b[0mint\u001b[0m\u001b[0;34m(\u001b[0m\u001b[0mpd\u001b[0m\u001b[0;34m.\u001b[0m\u001b[0mTimestamp\u001b[0m\u001b[0;34m(\u001b[0m\u001b[0mafter\u001b[0m\u001b[0;34m)\u001b[0m\u001b[0;34m.\u001b[0m\u001b[0mtimestamp\u001b[0m\u001b[0;34m(\u001b[0m\u001b[0;34m)\u001b[0m\u001b[0;34m)\u001b[0m\u001b[0;34m)\u001b[0m\u001b[0;34m\u001b[0m\u001b[0;34m\u001b[0m\u001b[0m\n\u001b[1;32m      7\u001b[0m     })\n\u001b[0;32m----> 8\u001b[0;31m     \u001b[0mresp\u001b[0m\u001b[0;34m.\u001b[0m\u001b[0mraise_for_status\u001b[0m\u001b[0;34m(\u001b[0m\u001b[0;34m)\u001b[0m\u001b[0;34m\u001b[0m\u001b[0;34m\u001b[0m\u001b[0m\n\u001b[0m\u001b[1;32m      9\u001b[0m     \u001b[0mdata\u001b[0m \u001b[0;34m=\u001b[0m \u001b[0mresp\u001b[0m\u001b[0;34m.\u001b[0m\u001b[0mjson\u001b[0m\u001b[0;34m(\u001b[0m\u001b[0;34m)\u001b[0m\u001b[0;34m\u001b[0m\u001b[0;34m\u001b[0m\u001b[0m\n\u001b[1;32m     10\u001b[0m     df = pd.DataFrame(data['result']['3600'], columns=[\n",
            "\u001b[0;32m/usr/local/lib/python3.10/dist-packages/requests/models.py\u001b[0m in \u001b[0;36mraise_for_status\u001b[0;34m(self)\u001b[0m\n\u001b[1;32m   1019\u001b[0m \u001b[0;34m\u001b[0m\u001b[0m\n\u001b[1;32m   1020\u001b[0m         \u001b[0;32mif\u001b[0m \u001b[0mhttp_error_msg\u001b[0m\u001b[0;34m:\u001b[0m\u001b[0;34m\u001b[0m\u001b[0;34m\u001b[0m\u001b[0m\n\u001b[0;32m-> 1021\u001b[0;31m             \u001b[0;32mraise\u001b[0m \u001b[0mHTTPError\u001b[0m\u001b[0;34m(\u001b[0m\u001b[0mhttp_error_msg\u001b[0m\u001b[0;34m,\u001b[0m \u001b[0mresponse\u001b[0m\u001b[0;34m=\u001b[0m\u001b[0mself\u001b[0m\u001b[0;34m)\u001b[0m\u001b[0;34m\u001b[0m\u001b[0;34m\u001b[0m\u001b[0m\n\u001b[0m\u001b[1;32m   1022\u001b[0m \u001b[0;34m\u001b[0m\u001b[0m\n\u001b[1;32m   1023\u001b[0m     \u001b[0;32mdef\u001b[0m \u001b[0mclose\u001b[0m\u001b[0;34m(\u001b[0m\u001b[0mself\u001b[0m\u001b[0;34m)\u001b[0m\u001b[0;34m:\u001b[0m\u001b[0;34m\u001b[0m\u001b[0;34m\u001b[0m\u001b[0m\n",
            "\u001b[0;31mHTTPError\u001b[0m: 410 Client Error: Gone for url: https://api.cryptowat.ch/markets/bitstamp/btcusd/ohlc?periods=3600&after=1695731634"
          ]
        }
      ],
      "source": [
        "btc = get_historic_price('btc', 'bitstamp', after=last_week)"
      ]
    },
    {
      "cell_type": "code",
      "execution_count": 38,
      "metadata": {
        "id": "TatsPR13YgEt",
        "outputId": "3a03f10d-6185-47f4-cdcd-6e3522e8c921",
        "colab": {
          "base_uri": "https://localhost:8080/",
          "height": 179
        }
      },
      "outputs": [
        {
          "output_type": "error",
          "ename": "NameError",
          "evalue": "ignored",
          "traceback": [
            "\u001b[0;31m---------------------------------------------------------------------------\u001b[0m",
            "\u001b[0;31mNameError\u001b[0m                                 Traceback (most recent call last)",
            "\u001b[0;32m<ipython-input-38-4a44254a6799>\u001b[0m in \u001b[0;36m<cell line: 1>\u001b[0;34m()\u001b[0m\n\u001b[0;32m----> 1\u001b[0;31m \u001b[0meth\u001b[0m \u001b[0;34m=\u001b[0m \u001b[0mget_historic_price\u001b[0m\u001b[0;34m(\u001b[0m\u001b[0;34m'eth'\u001b[0m\u001b[0;34m,\u001b[0m \u001b[0;34m'bitstamp'\u001b[0m\u001b[0;34m,\u001b[0m \u001b[0mafter\u001b[0m\u001b[0;34m=\u001b[0m\u001b[0mlast_week\u001b[0m\u001b[0;34m)\u001b[0m\u001b[0;34m\u001b[0m\u001b[0;34m\u001b[0m\u001b[0m\n\u001b[0m",
            "\u001b[0;31mNameError\u001b[0m: name 'get_historic_price' is not defined"
          ]
        }
      ],
      "source": [
        "eth = get_historic_price('eth', 'bitstamp', after=last_week)"
      ]
    },
    {
      "cell_type": "markdown",
      "metadata": {
        "id": "4TTVD5FxYgEt"
      },
      "source": [
        "**Bitcoin:**"
      ]
    },
    {
      "cell_type": "code",
      "execution_count": null,
      "metadata": {
        "id": "kOAsuhtOYgEt"
      },
      "outputs": [],
      "source": [
        "btc.head()"
      ]
    },
    {
      "cell_type": "code",
      "execution_count": null,
      "metadata": {
        "id": "Qq1-CM0BYgEt"
      },
      "outputs": [],
      "source": [
        "btc['ClosePrice'].plot(figsize=(15, 7))"
      ]
    },
    {
      "cell_type": "markdown",
      "metadata": {
        "id": "cXfNdUqPYgEu"
      },
      "source": [
        "**Ether:**"
      ]
    },
    {
      "cell_type": "code",
      "execution_count": null,
      "metadata": {
        "id": "gkQo4kJ6YgEu"
      },
      "outputs": [],
      "source": [
        "eth.head()"
      ]
    },
    {
      "cell_type": "code",
      "execution_count": null,
      "metadata": {
        "id": "lmSFwRKOYgEu"
      },
      "outputs": [],
      "source": [
        "eth['ClosePrice'].plot(figsize=(15, 7))"
      ]
    },
    {
      "cell_type": "markdown",
      "metadata": {
        "id": "oq48_-zLYgEu"
      },
      "source": [
        "As you can see, we're able to pull data from the internet with just a few lines, create a DataFrame and plot it all within Jupyter Lab."
      ]
    },
    {
      "cell_type": "code",
      "execution_count": null,
      "metadata": {
        "id": "KyxoYZpsYgEu"
      },
      "outputs": [],
      "source": [
        "eth.head()"
      ]
    },
    {
      "cell_type": "markdown",
      "metadata": {
        "id": "YtUif8OGYgEu"
      },
      "source": [
        "![green-divider](https://user-images.githubusercontent.com/7065401/52071924-c003ad80-2562-11e9-8297-1c6595f8a7ff.png)\n",
        "\n",
        "### Bonus: Dynamic plots with Bokeh\n",
        "\n",
        "We've also included [Bokeh](https://bokeh.pydata.org/) as part of this main distribution. Bokeh is a plotting library that generates interactive plots, that can be manipulated right within your browser.\n",
        "\n",
        "We first need to import the libraries:"
      ]
    },
    {
      "cell_type": "code",
      "execution_count": 48,
      "metadata": {
        "id": "BKn4qrPdYgEz"
      },
      "outputs": [],
      "source": [
        "from bokeh.plotting import figure, output_file, show\n",
        "from bokeh.io import output_notebook"
      ]
    },
    {
      "cell_type": "code",
      "execution_count": 49,
      "metadata": {
        "id": "BbTRkxTQYgEz"
      },
      "outputs": [],
      "source": [
        "output_notebook()"
      ]
    },
    {
      "cell_type": "markdown",
      "metadata": {
        "id": "d4XxIFVsYgEz"
      },
      "source": [
        "And we generate the plot:"
      ]
    },
    {
      "cell_type": "code",
      "execution_count": 50,
      "metadata": {
        "id": "TxeHsF_MYgEz",
        "outputId": "bc4909ae-8f10-438e-dfd7-1e6686a55d7a",
        "colab": {
          "base_uri": "https://localhost:8080/",
          "height": 250
        }
      },
      "outputs": [
        {
          "output_type": "error",
          "ename": "NameError",
          "evalue": "ignored",
          "traceback": [
            "\u001b[0;31m---------------------------------------------------------------------------\u001b[0m",
            "\u001b[0;31mNameError\u001b[0m                                 Traceback (most recent call last)",
            "\u001b[0;32m<ipython-input-50-97229e32a90e>\u001b[0m in \u001b[0;36m<cell line: 6>\u001b[0;34m()\u001b[0m\n\u001b[1;32m      4\u001b[0m \u001b[0mp1\u001b[0m\u001b[0;34m.\u001b[0m\u001b[0myaxis\u001b[0m\u001b[0;34m.\u001b[0m\u001b[0maxis_label\u001b[0m \u001b[0;34m=\u001b[0m \u001b[0;34m'Price'\u001b[0m\u001b[0;34m\u001b[0m\u001b[0;34m\u001b[0m\u001b[0m\n\u001b[1;32m      5\u001b[0m \u001b[0;34m\u001b[0m\u001b[0m\n\u001b[0;32m----> 6\u001b[0;31m \u001b[0mp1\u001b[0m\u001b[0;34m.\u001b[0m\u001b[0mline\u001b[0m\u001b[0;34m(\u001b[0m\u001b[0mbtc\u001b[0m\u001b[0;34m.\u001b[0m\u001b[0mindex\u001b[0m\u001b[0;34m,\u001b[0m \u001b[0mbtc\u001b[0m\u001b[0;34m[\u001b[0m\u001b[0;34m'ClosePrice'\u001b[0m\u001b[0;34m]\u001b[0m\u001b[0;34m,\u001b[0m \u001b[0mcolor\u001b[0m\u001b[0;34m=\u001b[0m\u001b[0;34m'#f2a900'\u001b[0m\u001b[0;34m,\u001b[0m \u001b[0mlegend\u001b[0m\u001b[0;34m=\u001b[0m\u001b[0;34m'Bitcoin'\u001b[0m\u001b[0;34m)\u001b[0m\u001b[0;34m\u001b[0m\u001b[0;34m\u001b[0m\u001b[0m\n\u001b[0m\u001b[1;32m      7\u001b[0m \u001b[0;31m#p1.line(eth.index, eth['ClosePrice'], color='#A6CEE3', legend='Ether')\u001b[0m\u001b[0;34m\u001b[0m\u001b[0;34m\u001b[0m\u001b[0m\n\u001b[1;32m      8\u001b[0m \u001b[0;34m\u001b[0m\u001b[0m\n",
            "\u001b[0;31mNameError\u001b[0m: name 'btc' is not defined"
          ]
        }
      ],
      "source": [
        "p1 = figure(x_axis_type=\"datetime\", title=\"Crypto Prices\", width=800)\n",
        "p1.grid.grid_line_alpha=0.3\n",
        "p1.xaxis.axis_label = 'Date'\n",
        "p1.yaxis.axis_label = 'Price'\n",
        "\n",
        "p1.line(btc.index, btc['ClosePrice'], color='#f2a900', legend='Bitcoin')\n",
        "#p1.line(eth.index, eth['ClosePrice'], color='#A6CEE3', legend='Ether')\n",
        "\n",
        "p1.legend.location = \"top_left\"\n",
        "\n",
        "show(p1)"
      ]
    },
    {
      "cell_type": "markdown",
      "metadata": {
        "id": "Xve8CCNRYgEz"
      },
      "source": [
        "☝️ as you can see, the plot is interactive. Try zomming in and out, and scrolling in the plot."
      ]
    },
    {
      "cell_type": "markdown",
      "metadata": {
        "id": "piJqzvvyYgEz"
      },
      "source": [
        "![green-divider](https://user-images.githubusercontent.com/7065401/52071924-c003ad80-2562-11e9-8297-1c6595f8a7ff.png)\n",
        "\n",
        "## Part 4: Exporting to Excel\n",
        "\n",
        "We're now ready to generate an Excel file from the downloaded prices. Working with Excel and other formats (like CSV or JSON) is extremely simple in Jupyter Lab (thanks to pandas and Python). Our first step will be to create an \"Excel writer\", a component from the `pandas` package:"
      ]
    },
    {
      "cell_type": "code",
      "execution_count": null,
      "metadata": {
        "id": "Qmzjfhq8YgEz"
      },
      "outputs": [],
      "source": [
        "writer = pd.ExcelWriter('cryptos.xlsx')"
      ]
    },
    {
      "cell_type": "markdown",
      "metadata": {
        "id": "BxLiIS0oYgEz"
      },
      "source": [
        "We'll now write both our Bitcoin and Ether data as separate sheets:"
      ]
    },
    {
      "cell_type": "code",
      "execution_count": null,
      "metadata": {
        "id": "MkL9-EKYYgEz"
      },
      "outputs": [],
      "source": [
        "btc.to_excel(writer, sheet_name='Bitcoin')"
      ]
    },
    {
      "cell_type": "code",
      "execution_count": null,
      "metadata": {
        "id": "WDl4lCChYgEz"
      },
      "outputs": [],
      "source": [
        "eth.to_excel(writer, sheet_name='Ether')"
      ]
    },
    {
      "cell_type": "markdown",
      "metadata": {
        "id": "PdzNrirYYgE0"
      },
      "source": [
        "And finally, we can save the file:"
      ]
    },
    {
      "cell_type": "code",
      "execution_count": null,
      "metadata": {
        "id": "X6tP-J4tYgE0"
      },
      "outputs": [],
      "source": [
        "writer.save()"
      ]
    },
    {
      "cell_type": "markdown",
      "metadata": {
        "id": "A7_rXeOgYgE0"
      },
      "source": [
        "Once you've saved the file, you should see it in the left side navigation bar:\n",
        "\n",
        "![Excel file](https://github.com/fraserr1991/ds-content-interactive-jupyterlab-tutorial/blob/master/images/_5.png?raw=1)"
      ]
    },
    {
      "cell_type": "markdown",
      "metadata": {
        "id": "KwyENGTDYgE0"
      },
      "source": [
        "## Final words and how to get help\n",
        "\n",
        "That's it! It's your time now to start working and playing around with jupyter lab and Notebooks.ai. This product is in an early stage, so we'd love to receive all your feedback and suggestions. If you need help or ideas for us to implement, create an issue in the following replo: [https://github.com/notebooks-ai/notebooks-help](https://github.com/notebooks-ai/notebooks-help). It'll be highly appreciated!"
      ]
    },
    {
      "cell_type": "markdown",
      "metadata": {
        "id": "b9EyvTe7YgE0"
      },
      "source": [
        "![purple-divider](https://user-images.githubusercontent.com/7065401/52071927-c1cd7100-2562-11e9-908a-dde91ba14e59.png)"
      ]
    }
  ],
  "metadata": {
    "kernelspec": {
      "display_name": "Python 3",
      "language": "python",
      "name": "python3"
    },
    "language_info": {
      "codemirror_mode": {
        "name": "ipython",
        "version": 3
      },
      "file_extension": ".py",
      "mimetype": "text/x-python",
      "name": "python",
      "nbconvert_exporter": "python",
      "pygments_lexer": "ipython3",
      "version": "3.6.8"
    },
    "colab": {
      "provenance": [],
      "include_colab_link": true
    }
  },
  "nbformat": 4,
  "nbformat_minor": 0
}